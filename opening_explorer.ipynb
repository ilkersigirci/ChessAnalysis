{
 "cells": [
  {
   "cell_type": "code",
   "execution_count": 1,
   "metadata": {
    "scrolled": true
   },
   "outputs": [
    {
     "data": {
      "text/html": [
       "\n",
       "        <div>\n",
       "            <p><b>SparkContext</b></p>\n",
       "\n",
       "            <p><a href=\"http://192.168.0.106:4040\">Spark UI</a></p>\n",
       "\n",
       "            <dl>\n",
       "              <dt>Version</dt>\n",
       "                <dd><code>v2.2.0</code></dd>\n",
       "              <dt>Master</dt>\n",
       "                <dd><code>local[*]</code></dd>\n",
       "              <dt>AppName</dt>\n",
       "                <dd><code>PySparkShell</code></dd>\n",
       "            </dl>\n",
       "        </div>\n",
       "        "
      ],
      "text/plain": [
       "<SparkContext master=local[*] appName=PySparkShell>"
      ]
     },
     "execution_count": 1,
     "metadata": {},
     "output_type": "execute_result"
    }
   ],
   "source": [
    "sc"
   ]
  },
  {
   "cell_type": "code",
   "execution_count": 36,
   "metadata": {},
   "outputs": [],
   "source": [
    "import chess\n",
    "from IPython.display import clear_output\n",
    "import time\n",
    "from texttable import Texttable\n",
    "\n",
    "\n",
    "import pyspark.sql.functions as F\n",
    "from pyspark.sql.types import ArrayType, StringType\n",
    "import matplotlib.pyplot as plt\n",
    "\n",
    "%matplotlib notebook"
   ]
  },
  {
   "cell_type": "code",
   "execution_count": 3,
   "metadata": {},
   "outputs": [],
   "source": [
    "def moves_to_arr(moves_string):\n",
    "    moves = []\n",
    "    for i in moves_string.split(\" \"):\n",
    "        if \".\" not in i:\n",
    "            moves.append(i)\n",
    "    return moves\n",
    "\n",
    "moves_to_arr_udf = F.udf(moves_to_arr, ArrayType(StringType()))"
   ]
  },
  {
   "cell_type": "code",
   "execution_count": 4,
   "metadata": {},
   "outputs": [],
   "source": [
    "def generate_base_df(file=\"chess_dataframe_parquet\"):\n",
    "    df = spark.read.parquet(\"chess_dataframe_parquet\").repartition(200)\n",
    "    df = df.where(df.Moves.isNotNull())\n",
    "    df = df.where(df.Result != \"*\")\n",
    "    base_df = df.withColumn(\"MovesArray\", moves_to_arr_udf(df[\"Moves\"])).cache()\n",
    "    \n",
    "    return base_df"
   ]
  },
  {
   "cell_type": "code",
   "execution_count": 5,
   "metadata": {},
   "outputs": [
    {
     "name": "stdout",
     "output_type": "stream",
     "text": [
      "+--------------------+\n",
      "|          MovesArray|\n",
      "+--------------------+\n",
      "|[e4, e6, d4, d5, ...|\n",
      "|[e4, e5, d4, exd4...|\n",
      "|[Nf3, d5, d4, Nf6...|\n",
      "|[d4, d5, c4, c6, ...|\n",
      "|[d4, Nf6, Bg5, e6...|\n",
      "|[e4, c5, Nf3, Nf6...|\n",
      "|[d4, d5, c4, c6, ...|\n",
      "|[e4, e6, Qe2, d5,...|\n",
      "|[d4, Nf6, Nf3, g6...|\n",
      "|[d4, g6, e4, Bg7,...|\n",
      "|[d4, Nf6, c4, c5,...|\n",
      "|[e4, e5, Nf3, Nc6...|\n",
      "|[d4, d5, Nf3, Nf6...|\n",
      "|[c4, c6, g3, d5, ...|\n",
      "|[d4, Nf6, Nf3, d5...|\n",
      "|[d4, d5, c4, e5, ...|\n",
      "|[e4, c5, g3, h5, ...|\n",
      "|[e4, c5, Nf3, e6,...|\n",
      "|[e4, e6, d4, d5, ...|\n",
      "|[e4, c5, d4, cxd4...|\n",
      "+--------------------+\n",
      "only showing top 20 rows\n",
      "\n"
     ]
    }
   ],
   "source": [
    "base_df = generate_base_df()\n",
    "base_df.select(\"MovesArray\").show()"
   ]
  },
  {
   "cell_type": "code",
   "execution_count": 61,
   "metadata": {},
   "outputs": [],
   "source": [
    "def parse_results(rows):\n",
    "    results = {\"White\":0, \"Black\":0, \"Draw\": 0}\n",
    "    for row in rows:\n",
    "        key = \"Draw\"\n",
    "        if row.Result == \"1-0\":\n",
    "            key = \"White\"\n",
    "        elif row.Result == \"0-1\":\n",
    "            key = \"Black\"\n",
    "        results[key] = row.winRate\n",
    "    return results\n",
    "\n",
    "def visualize_top_moves(top_moves, turn):\n",
    "    all_results = []\n",
    "    for i in range(0, len(top_moves), 3):\n",
    "        move = top_moves[i].move\n",
    "        results = parse_results(top_moves[i: i+3])\n",
    "        total = top_moves[i].total\n",
    "        all_results.append([turn//2 + 1, move, total, results[\"White\"], results[\"Draw\"], results[\"Black\"]])\n",
    "    \n",
    "    table = Texttable()\n",
    "    table.add_rows([['Turn', 'Move', 'Game', 'White', 'Draw', 'Black']]+all_results)\n",
    "    print(table.draw())"
   ]
  },
  {
   "cell_type": "code",
   "execution_count": null,
   "metadata": {},
   "outputs": [],
   "source": [
    "def game(board = chess.Board()):\n",
    "    board.reset()\n",
    "    game_df = generate_base_df()\n",
    "    i = 0\n",
    "    while not board.is_game_over():\n",
    "        current_df = game_df.groupBy(game_df.MovesArray.getItem(i).alias(\"move\"), game_df.Result) \\\n",
    "        .count().filter(F.col(\"move\").isNotNull())\n",
    "        \n",
    "        current_totals = current_df.groupBy(current_df.move).agg(F.sum(\"count\").alias(\"total\"))\n",
    "        current_df = current_df.join(current_totals, on=[\"move\"], how=\"inner\")\n",
    "        top_moves = current_df.withColumn(\"winRate\", F.col(\"count\")/F.col(\"total\")) \\\n",
    "        .orderBy([\"total\", \"winRate\", \"Result\"], ascending=False).take(36)\n",
    "\n",
    "        #clear_output(wait=False)\n",
    "        visualize_top_moves(top_moves, i)\n",
    "        display(board)\n",
    "        move = input(\"Move(SAN): \")\n",
    "        print(\"\\n\\n\")\n",
    "        if move == \"q\":\n",
    "            break\n",
    "        while True:\n",
    "            try:\n",
    "                uci_move = board.parse_san(move)\n",
    "                board.push(uci_move)\n",
    "                break\n",
    "            except ValueError:\n",
    "                print(\"Illegal Move! Try Again.\")\n",
    "                move = input(\"Move(SAN): \")\n",
    "            time.sleep(0.5)\n",
    "        game_df = game_df.where(game_df.MovesArray.getItem(i) == move)\n",
    "        i += 1\n",
    "    #clear_output(wait=True)\n",
    "    print(\"\\n\\n\")\n",
    "    print(\"Game finished.\")\n",
    "    display(board)"
   ]
  },
  {
   "cell_type": "code",
   "execution_count": null,
   "metadata": {
    "scrolled": false
   },
   "outputs": [],
   "source": [
    "game()"
   ]
  },
  {
   "cell_type": "code",
   "execution_count": null,
   "metadata": {},
   "outputs": [],
   "source": []
  }
 ],
 "metadata": {
  "kernelspec": {
   "display_name": "ceng790",
   "language": "python",
   "name": "cen790"
  },
  "language_info": {
   "codemirror_mode": {
    "name": "ipython",
    "version": 3
   },
   "file_extension": ".py",
   "mimetype": "text/x-python",
   "name": "python",
   "nbconvert_exporter": "python",
   "pygments_lexer": "ipython3",
   "version": "3.6.12"
  }
 },
 "nbformat": 4,
 "nbformat_minor": 4
}
