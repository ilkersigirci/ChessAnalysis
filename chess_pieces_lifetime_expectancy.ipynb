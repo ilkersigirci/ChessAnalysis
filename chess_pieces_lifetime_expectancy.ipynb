{
 "cells": [
  {
   "cell_type": "code",
   "execution_count": 1,
   "metadata": {
    "scrolled": true
   },
   "outputs": [
    {
     "data": {
      "text/html": [
       "\n",
       "        <div>\n",
       "            <p><b>SparkContext</b></p>\n",
       "\n",
       "            <p><a href=\"http://192.168.0.105:4040\">Spark UI</a></p>\n",
       "\n",
       "            <dl>\n",
       "              <dt>Version</dt>\n",
       "                <dd><code>v2.2.0</code></dd>\n",
       "              <dt>Master</dt>\n",
       "                <dd><code>local[*]</code></dd>\n",
       "              <dt>AppName</dt>\n",
       "                <dd><code>PySparkShell</code></dd>\n",
       "            </dl>\n",
       "        </div>\n",
       "        "
      ],
      "text/plain": [
       "<SparkContext master=local[*] appName=PySparkShell>"
      ]
     },
     "execution_count": 1,
     "metadata": {},
     "output_type": "execute_result"
    }
   ],
   "source": [
    "sc"
   ]
  },
  {
   "cell_type": "code",
   "execution_count": 2,
   "metadata": {},
   "outputs": [],
   "source": [
    "import pyspark.sql.functions as F\n",
    "from pyspark.sql.types import ArrayType, IntegerType"
   ]
  },
  {
   "cell_type": "code",
   "execution_count": 3,
   "metadata": {},
   "outputs": [],
   "source": [
    "import chess\n",
    "from chess import piece_name, square_name"
   ]
  },
  {
   "cell_type": "code",
   "execution_count": 4,
   "metadata": {},
   "outputs": [],
   "source": [
    "df = spark.read.csv(\"chess_dataframe_small.csv\", header=True)"
   ]
  },
  {
   "cell_type": "code",
   "execution_count": 5,
   "metadata": {
    "scrolled": true
   },
   "outputs": [
    {
     "data": {
      "text/plain": [
       "['Event',\n",
       " 'Site',\n",
       " 'Date',\n",
       " 'Round',\n",
       " 'White',\n",
       " 'Black',\n",
       " 'Result',\n",
       " 'BlackElo',\n",
       " 'BlackRatingDiff',\n",
       " 'BlackTitle',\n",
       " 'ECO',\n",
       " 'LichessURL',\n",
       " 'Opening',\n",
       " 'Termination',\n",
       " 'TimeControl',\n",
       " 'UTCDate',\n",
       " 'UTCTime',\n",
       " 'WhiteElo',\n",
       " 'WhiteRatingDiff',\n",
       " 'WhiteTitle',\n",
       " 'Moves']"
      ]
     },
     "execution_count": 5,
     "metadata": {},
     "output_type": "execute_result"
    }
   ],
   "source": [
    "df.columns"
   ]
  },
  {
   "cell_type": "code",
   "execution_count": 6,
   "metadata": {
    "scrolled": true
   },
   "outputs": [],
   "source": [
    "# extract game type\n",
    "df = df.withColumn(\"game_type\", F.split(df['Event'], ' ').getItem(1))"
   ]
  },
  {
   "cell_type": "code",
   "execution_count": 7,
   "metadata": {
    "scrolled": true
   },
   "outputs": [
    {
     "name": "stdout",
     "output_type": "stream",
     "text": [
      "+---------+-----+\n",
      "|game_type|count|\n",
      "+---------+-----+\n",
      "|    Blitz|   30|\n",
      "+---------+-----+\n",
      "\n"
     ]
    }
   ],
   "source": [
    "df.groupBy(\"game_type\").count().sort(F.col(\"count\").desc()).show()"
   ]
  },
  {
   "cell_type": "code",
   "execution_count": 8,
   "metadata": {},
   "outputs": [],
   "source": [
    "def get_move_squares(board, san_move):\n",
    "    # Corrents the from_square and to_square attributes of a move\n",
    "    # in case the move is a castling move\n",
    "    move = board.parse_san(san_move)\n",
    "    move = board._to_chess960(move)\n",
    "    \n",
    "    from_sq = move.from_square\n",
    "    to_sq = move.to_square\n",
    "    to_sq_occupied = board.piece_type_at(to_sq) != None\n",
    "\n",
    "    # Handle special pawn moves\n",
    "    if board.piece_type_at(from_sq) == chess.PAWN:\n",
    "        ep_square = board.ep_square\n",
    "        diff = move.to_square - move.from_square\n",
    "\n",
    "        if to_sq == ep_square and abs(diff) in [7, 9] and not to_sq_occupied:\n",
    "            # Handle en passant move\n",
    "            down = -8 if board.turn == chess.WHITE else 8\n",
    "            cap_sq = ep_square + down\n",
    "            return [(from_sq, to_sq)], cap_sq\n",
    "\n",
    "    # Handle castling\n",
    "    if board.is_castling(move):\n",
    "\n",
    "        a_side = chess.square_file(move.to_square) < chess.square_file(move.from_square)\n",
    "\n",
    "        # Queen-side castling\n",
    "        if a_side:\n",
    "            return [\n",
    "                (from_sq, chess.C1 if board.turn == chess.WHITE else chess.C8),\n",
    "                (to_sq, chess.D1 if board.turn == chess.WHITE else chess.D8),\n",
    "            ], None\n",
    "\n",
    "        # King-side castling\n",
    "        return [\n",
    "            (from_sq, chess.G1 if board.turn == chess.WHITE else chess.G8),\n",
    "            (to_sq, chess.F1 if board.turn == chess.WHITE else chess.F8),\n",
    "        ], None\n",
    "        \n",
    "    # Handle regular move\n",
    "    return [(from_sq, to_sq)], to_sq if to_sq_occupied else None"
   ]
  },
  {
   "cell_type": "code",
   "execution_count": 9,
   "metadata": {
    "scrolled": false
   },
   "outputs": [],
   "source": [
    "def get_square_name(sq):\n",
    "    return chess.square_name(sq) if sq else None\n",
    "\n",
    "def test(moves):\n",
    "    board = chess.Board()\n",
    "    for san_move in moves:\n",
    "        move_squares, cap_square = get_move_squares(board, san_move)\n",
    "        move_squares = [(get_square_name(a), get_square_name(b)) for a, b in move_squares]\n",
    "        print(san_move)\n",
    "        print(move_squares, get_square_name(cap_square))\n",
    "        board.push_san(san_move)\n",
    "        \n",
    "test_moves = [\"Nf3\",\"Nf6\",\"c4\",\"c6\",\"g3\",\"d5\",\"Bg2\",\"Bf5\",\"Qb3\",\"Qb6\",\"d3\",\"e6\",\"Be3\",\"Qxb3\",\"axb3\"]\n",
    "# test(test_moves)"
   ]
  },
  {
   "cell_type": "code",
   "execution_count": 10,
   "metadata": {},
   "outputs": [],
   "source": [
    "def get_lifetimes(moves_string):\n",
    "    moves = []\n",
    "    for i in moves_string.split(\" \"):\n",
    "        if \".\" not in i:\n",
    "            moves.append(i)\n",
    "    board = chess.Board(chess.STARTING_FEN)\n",
    "    init_occupied_squares = [sq for sq in chess.SQUARES if board.piece_at(sq) != None]\n",
    "\n",
    "    init_sq = {sq: sq for sq in init_occupied_squares}\n",
    "\n",
    "    alive = {sq: 0 for sq in init_occupied_squares}\n",
    "    lifetime = {sq: 0 for sq in init_occupied_squares}\n",
    "    for i, san_move in enumerate(moves):\n",
    "        if i % 2 == 0:\n",
    "            # increment lifetime of alive pieces\n",
    "            for sq in alive:\n",
    "                alive[sq] = board.fullmove_number\n",
    "\n",
    "        move_sqs, cap_sq = get_move_squares(board, san_move)\n",
    "\n",
    "        if cap_sq is not None:\n",
    "            # captured piece dies\n",
    "            init_cap_sq = init_sq[cap_sq]\n",
    "            del init_sq[cap_sq]\n",
    "            lifetime[init_cap_sq] = alive[init_cap_sq]  # determines lifetime of captured piece\n",
    "            del alive[init_cap_sq]\n",
    "\n",
    "        for from_sq, to_sq in move_sqs:\n",
    "            init_sq[to_sq] = init_sq[from_sq]\n",
    "        for from_sq, _ in move_sqs:\n",
    "            del init_sq[from_sq]\n",
    "        board.push_san(san_move)\n",
    "\n",
    "    # assign lifetimes of remaining alive pieces after the game ended\n",
    "    for sq in alive:\n",
    "        lifetime[sq] = board.fullmove_number\n",
    "    return list(lifetime.values())"
   ]
  },
  {
   "cell_type": "code",
   "execution_count": 11,
   "metadata": {},
   "outputs": [],
   "source": [
    "squares = [0, 1, 2, 3, 4, 5, 6, 7, 8, 9, 10, 11, 12, 13, 14, 15, 48, 49, 50, 51, 52, 53, 54, 55, 56, 57, 58, 59, 60, 61, 62, 63]"
   ]
  },
  {
   "cell_type": "code",
   "execution_count": 12,
   "metadata": {},
   "outputs": [],
   "source": [
    "# Filter None values\n",
    "df = df.where(df.Moves.isNotNull())"
   ]
  },
  {
   "cell_type": "code",
   "execution_count": 13,
   "metadata": {},
   "outputs": [],
   "source": [
    "lifetime_udf = F.udf(get_lifetimes, ArrayType(IntegerType()))"
   ]
  },
  {
   "cell_type": "code",
   "execution_count": 14,
   "metadata": {},
   "outputs": [],
   "source": [
    "df_games = df.withColumn(\"lifetimes\", lifetime_udf(df[\"Moves\"])).select(\"lifetimes\")"
   ]
  },
  {
   "cell_type": "code",
   "execution_count": 15,
   "metadata": {},
   "outputs": [],
   "source": [
    "df_lifetimes = df_games.select([df_games.lifetimes[ind].alias(str(i)) for ind, i in enumerate(squares)])"
   ]
  },
  {
   "cell_type": "code",
   "execution_count": 16,
   "metadata": {},
   "outputs": [
    {
     "name": "stdout",
     "output_type": "stream",
     "text": [
      "CPU times: user 15.3 ms, sys: 0 ns, total: 15.3 ms\n",
      "Wall time: 3.92 s\n"
     ]
    }
   ],
   "source": [
    "%%time\n",
    "\n",
    "df_lifetimes_mean  = df_lifetimes.select(*[F.mean(c).alias(c) for c in df_lifetimes.columns]).collect()[0]"
   ]
  },
  {
   "cell_type": "code",
   "execution_count": 17,
   "metadata": {},
   "outputs": [],
   "source": [
    "init_board = chess.Board(chess.STARTING_FEN)\n",
    "\n",
    "data = []\n",
    "\n",
    "for sq in squares:\n",
    "    val = [chess.COLOR_NAMES[init_board.color_at(sq)],\n",
    "           chess.piece_name(init_board.piece_type_at(sq)),\n",
    "           chess.square_name(sq),\n",
    "           df_lifetimes_mean[str(sq)]]\n",
    "    data.append(val)\n",
    "\n",
    "data = sorted(data, key=lambda e: -e[3])"
   ]
  },
  {
   "cell_type": "code",
   "execution_count": 18,
   "metadata": {},
   "outputs": [
    {
     "data": {
      "text/plain": [
       "[['white', 'king', 'e1', 41.233333333333334],\n",
       " ['black', 'king', 'e8', 41.233333333333334],\n",
       " ['black', 'pawn', 'g7', 39.53333333333333],\n",
       " ['white', 'pawn', 'f2', 36.4],\n",
       " ['white', 'pawn', 'h2', 36.266666666666666],\n",
       " ['black', 'pawn', 'h7', 36.03333333333333],\n",
       " ['white', 'pawn', 'g2', 35.2],\n",
       " ['black', 'pawn', 'f7', 34.96666666666667],\n",
       " ['black', 'pawn', 'a7', 34.63333333333333],\n",
       " ['white', 'pawn', 'a2', 33.56666666666667],\n",
       " ['black', 'pawn', 'b7', 33.36666666666667],\n",
       " ['white', 'pawn', 'b2', 32.36666666666667],\n",
       " ['white', 'rook', 'h1', 30.866666666666667],\n",
       " ['black', 'rook', 'h8', 30.466666666666665],\n",
       " ['black', 'rook', 'a8', 29.533333333333335],\n",
       " ['black', 'queen', 'd8', 29.4],\n",
       " ['black', 'pawn', 'e7', 29.3],\n",
       " ['white', 'queen', 'd1', 28.833333333333332],\n",
       " ['white', 'rook', 'a1', 28.6],\n",
       " ['white', 'bishop', 'c1', 27.9],\n",
       " ['black', 'pawn', 'c7', 27.866666666666667],\n",
       " ['black', 'bishop', 'f8', 27.433333333333334],\n",
       " ['black', 'knight', 'g8', 25.6],\n",
       " ['white', 'pawn', 'e2', 25.0],\n",
       " ['black', 'bishop', 'c8', 24.433333333333334],\n",
       " ['white', 'pawn', 'c2', 23.133333333333333],\n",
       " ['white', 'knight', 'b1', 22.633333333333333],\n",
       " ['white', 'pawn', 'd2', 22.533333333333335],\n",
       " ['white', 'bishop', 'f1', 21.966666666666665],\n",
       " ['white', 'knight', 'g1', 21.966666666666665],\n",
       " ['black', 'knight', 'b8', 18.5],\n",
       " ['black', 'pawn', 'd7', 18.433333333333334]]"
      ]
     },
     "execution_count": 18,
     "metadata": {},
     "output_type": "execute_result"
    }
   ],
   "source": [
    "data"
   ]
  },
  {
   "cell_type": "code",
   "execution_count": 19,
   "metadata": {},
   "outputs": [],
   "source": [
    "import pickle\n",
    "\n",
    "with open('lifetime_expectancy.pkl', 'wb') as f:\n",
    "    pickle.dump(data, f)"
   ]
  },
  {
   "cell_type": "code",
   "execution_count": 20,
   "metadata": {},
   "outputs": [
    {
     "name": "stdout",
     "output_type": "stream",
     "text": [
      "[['white', 'king', 'e1', 41.233333333333334], ['black', 'king', 'e8', 41.233333333333334], ['black', 'pawn', 'g7', 39.53333333333333], ['white', 'pawn', 'f2', 36.4], ['white', 'pawn', 'h2', 36.266666666666666], ['black', 'pawn', 'h7', 36.03333333333333], ['white', 'pawn', 'g2', 35.2], ['black', 'pawn', 'f7', 34.96666666666667], ['black', 'pawn', 'a7', 34.63333333333333], ['white', 'pawn', 'a2', 33.56666666666667], ['black', 'pawn', 'b7', 33.36666666666667], ['white', 'pawn', 'b2', 32.36666666666667], ['white', 'rook', 'h1', 30.866666666666667], ['black', 'rook', 'h8', 30.466666666666665], ['black', 'rook', 'a8', 29.533333333333335], ['black', 'queen', 'd8', 29.4], ['black', 'pawn', 'e7', 29.3], ['white', 'queen', 'd1', 28.833333333333332], ['white', 'rook', 'a1', 28.6], ['white', 'bishop', 'c1', 27.9], ['black', 'pawn', 'c7', 27.866666666666667], ['black', 'bishop', 'f8', 27.433333333333334], ['black', 'knight', 'g8', 25.6], ['white', 'pawn', 'e2', 25.0], ['black', 'bishop', 'c8', 24.433333333333334], ['white', 'pawn', 'c2', 23.133333333333333], ['white', 'knight', 'b1', 22.633333333333333], ['white', 'pawn', 'd2', 22.533333333333335], ['white', 'bishop', 'f1', 21.966666666666665], ['white', 'knight', 'g1', 21.966666666666665], ['black', 'knight', 'b8', 18.5], ['black', 'pawn', 'd7', 18.433333333333334]]\n"
     ]
    }
   ],
   "source": [
    "with open('lifetime_expectancy.pkl', 'rb') as f:\n",
    "    data = pickle.load(f)\n",
    "    print(data)"
   ]
  },
  {
   "cell_type": "code",
   "execution_count": null,
   "metadata": {},
   "outputs": [],
   "source": []
  }
 ],
 "metadata": {
  "kernelspec": {
   "display_name": "ceng790",
   "language": "python",
   "name": "cen790"
  },
  "language_info": {
   "codemirror_mode": {
    "name": "ipython",
    "version": 3
   },
   "file_extension": ".py",
   "mimetype": "text/x-python",
   "name": "python",
   "nbconvert_exporter": "python",
   "pygments_lexer": "ipython3",
   "version": "3.6.12"
  }
 },
 "nbformat": 4,
 "nbformat_minor": 4
}
