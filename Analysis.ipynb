{
 "cells": [
  {
   "cell_type": "code",
   "execution_count": null,
   "metadata": {},
   "outputs": [],
   "source": [
    "import chess\n",
    "import pyspark.sql.functions as F\n",
    "import pandas as pd\n",
    "from IPython.display import display, HTML\n",
    "import numpy as np\n",
    "import seaborn as sns\n",
    "# pyspark.sql.functions.split(df['my_str_col'], '-')"
   ]
  },
  {
   "cell_type": "code",
   "execution_count": null,
   "metadata": {},
   "outputs": [],
   "source": [
    "spark"
   ]
  },
  {
   "cell_type": "code",
   "execution_count": null,
   "metadata": {},
   "outputs": [],
   "source": [
    "raw = spark.read.format(\"parquet\").option(\"header\",True).load(\"data/chess_dataframe_parquet/*.parquet\")"
   ]
  },
  {
   "cell_type": "code",
   "execution_count": null,
   "metadata": {
    "scrolled": true
   },
   "outputs": [],
   "source": [
    "raw.show()"
   ]
  },
  {
   "cell_type": "code",
   "execution_count": null,
   "metadata": {},
   "outputs": [],
   "source": [
    "sp = F.split(raw.Opening, ':')\n",
    "df = raw.withColumn(\"Opening1\", sp.getItem(0)).withColumn(\"Variation\", sp.getItem(1))"
   ]
  },
  {
   "cell_type": "code",
   "execution_count": null,
   "metadata": {},
   "outputs": [],
   "source": [
    "df = df.groupby(df.Opening1, df.Variation).count()"
   ]
  },
  {
   "cell_type": "code",
   "execution_count": null,
   "metadata": {},
   "outputs": [],
   "source": [
    "df.take(5)"
   ]
  },
  {
   "cell_type": "code",
   "execution_count": null,
   "metadata": {
    "scrolled": true
   },
   "outputs": [],
   "source": [
    "x = df.filter(F.col(\"count\")>100).sort(F.col(\"count\").desc()).toPandas()\n",
    "x.set_index(['Opening1', \"Variation\"], inplace=True)\n",
    "x.sort_index(inplace=True)\n",
    "display(HTML(x.to_html()))"
   ]
  },
  {
   "cell_type": "markdown",
   "metadata": {},
   "source": [
    "## Total opening count table"
   ]
  },
  {
   "cell_type": "code",
   "execution_count": null,
   "metadata": {},
   "outputs": [],
   "source": [
    "df.groupby(df.Opening1).agg(F.sum(\"count\").alias(\"count\")) \\\n",
    "  .filter(F.col(\"count\")>100).sort(F.col(\"count\").desc()).toPandas()"
   ]
  },
  {
   "cell_type": "markdown",
   "metadata": {},
   "source": [
    "## Opening with its most popular variation count"
   ]
  },
  {
   "cell_type": "code",
   "execution_count": null,
   "metadata": {},
   "outputs": [],
   "source": [
    "import matplotlib.pyplot as plt\n",
    "p = df.filter(F.col(\"count\")>2000).filter(F.col(\"variation\").isNotNull()) \\\n",
    "      .sort(F.col(\"count\").desc()) \\\n",
    "      .toPandas()\n",
    "p.plot(x=\"Opening1\", y=\"count\", kind=\"bar\", rot=90, fontsize=20, figsize=(20,10))\n",
    "plt.show()"
   ]
  },
  {
   "cell_type": "markdown",
   "metadata": {},
   "source": [
    "## Most player variation"
   ]
  },
  {
   "cell_type": "code",
   "execution_count": null,
   "metadata": {},
   "outputs": [],
   "source": [
    "import matplotlib.pyplot as plt\n",
    "p = df.filter(F.col(\"count\")>8000).filter(F.col(\"variation\").isNotNull()) \\\n",
    "      .withColumn(\"opening_variation\", F.concat(F.col(\"Opening1\"), F.col(\"variation\"))).sort(F.col(\"count\").desc()) \\\n",
    "      .toPandas()\n",
    "p.plot(x=\"opening_variation\", y=\"count\", kind=\"bar\", rot=90, fontsize=20, figsize=(20,10))\n",
    "plt.show()"
   ]
  },
  {
   "cell_type": "markdown",
   "metadata": {},
   "source": [
    "## Most played opening"
   ]
  },
  {
   "cell_type": "code",
   "execution_count": null,
   "metadata": {},
   "outputs": [],
   "source": [
    "import matplotlib.pyplot as plt\n",
    "df2 = raw.withColumn(\"Opening1\", sp.getItem(0))\n",
    "df2 = df2.groupby(df2.Opening1).count().sort(F.col(\"count\").desc())\n",
    "p = df2.filter(F.col(\"count\")>10000).toPandas()\n",
    "p.plot(x=\"Opening1\", y=\"count\", kind=\"bar\", rot=90, fontsize=20, figsize=(20,10))\n",
    "plt.show()"
   ]
  },
  {
   "cell_type": "markdown",
   "metadata": {},
   "source": [
    "## Win rate"
   ]
  },
  {
   "cell_type": "code",
   "execution_count": null,
   "metadata": {
    "scrolled": true
   },
   "outputs": [],
   "source": [
    "res = raw.select([\"Result\", \"Opening\"])\n",
    "sp = F.split(res.Opening, ':')\n",
    "res = res.withColumn(\"Opening_temp\", sp.getItem(0)).withColumn(\"Variation\", sp.getItem(1))\n",
    "res = res.drop(\"Opening\")\n",
    "res = res.withColumnRenamed(\"Opening_temp\", \"Opening\")\n",
    "\n",
    "res = res.groupby(\"Opening\", \"Result\").count()\n",
    "res = res.withColumn(\"WonBy\", F.when(res.Result == \"0-1\", F.lit(\"black\")) \\\n",
    "                         .when(res.Result == \"1-0\", F.lit(\"white\")) \\\n",
    "                         .when(res.Result == \"1/2-1/2\", F.lit(\"draw\")) \\\n",
    "                         .otherwise(F.lit(\"aborted\"))).drop(\"Result\").sort(F.col(\"Opening\").desc())"
   ]
  },
  {
   "cell_type": "code",
   "execution_count": null,
   "metadata": {
    "scrolled": true
   },
   "outputs": [],
   "source": [
    "res.show()"
   ]
  },
  {
   "cell_type": "code",
   "execution_count": null,
   "metadata": {},
   "outputs": [],
   "source": [
    "perc = res.groupby(\"Opening\").agg(F.sum(\"count\").alias(\"total\"))"
   ]
  },
  {
   "cell_type": "code",
   "execution_count": null,
   "metadata": {},
   "outputs": [],
   "source": [
    "perc.show()"
   ]
  },
  {
   "cell_type": "code",
   "execution_count": null,
   "metadata": {},
   "outputs": [],
   "source": [
    "from pyspark.sql import Window\n",
    "w = Window.partitionBy('Opening')\n",
    "maxCount = res.where(F.col(\"wonBy\") != \"draw\").withColumn('maxCount', F.max('count').over(w))\\\n",
    "    .where(F.col('count') == F.col('maxCount'))\\\n",
    "    .drop('maxCount')"
   ]
  },
  {
   "cell_type": "code",
   "execution_count": null,
   "metadata": {},
   "outputs": [],
   "source": [
    "draws = res.filter(F.col(\"wonBy\") == \"draw\").withColumnRenamed(\"count\",\"draw_count\").drop(\"wonBy\")"
   ]
  },
  {
   "cell_type": "code",
   "execution_count": null,
   "metadata": {},
   "outputs": [],
   "source": [
    "draws.show()"
   ]
  },
  {
   "cell_type": "code",
   "execution_count": null,
   "metadata": {
    "scrolled": true
   },
   "outputs": [],
   "source": [
    "final = perc.join(maxCount, on=[\"Opening\"], how=\"inner\") \\\n",
    "        .join(draws, on=[\"Opening\"], how=\"inner\") \\\n",
    "        .withColumn(\"win_rate\", F.col(\"count\")/F.col(\"total\")) \\\n",
    "        .withColumn(\"draw_rate\", F.col(\"draw_count\")/F.col(\"total\")) \\\n",
    "        .filter(F.col(\"total\")>500).sort(F.col(\"total\").desc()) \\\n",
    "        .drop(\"count\").withColumn(\"second_rate\", 1 - F.col(\"win_rate\") - F.col(\"draw_rate\"))"
   ]
  },
  {
   "cell_type": "code",
   "execution_count": null,
   "metadata": {
    "scrolled": true
   },
   "outputs": [],
   "source": [
    "a = final.toPandas()\n",
    "display(HTML(a.to_html()))"
   ]
  },
  {
   "cell_type": "markdown",
   "metadata": {},
   "source": [
    "## Daily and weekly games count"
   ]
  },
  {
   "cell_type": "code",
   "execution_count": null,
   "metadata": {},
   "outputs": [],
   "source": [
    "grouped = raw.groupby(\"date\", \"opening\").agg(F.count(\"*\").alias(\"count\")).sort(F.col(\"date\").desc())\n",
    "grouped.show()"
   ]
  },
  {
   "cell_type": "code",
   "execution_count": null,
   "metadata": {
    "scrolled": true
   },
   "outputs": [],
   "source": [
    "total_games_daily = grouped.groupby(\"date\").agg(F.sum(F.col(\"count\")).alias(\"total\"))\n",
    "total_games_daily.show()"
   ]
  },
  {
   "cell_type": "code",
   "execution_count": null,
   "metadata": {},
   "outputs": [],
   "source": [
    "total_games_weekly = grouped.groupby(F.weekofyear(F.to_date(F.col(\"date\"),\"yyyy.MM.dd\")).alias(\"week\")) \\\n",
    "                            .agg(F.sum(F.col(\"count\")).alias(\"total\"))\n",
    "total_games_weekly.show()"
   ]
  },
  {
   "cell_type": "markdown",
   "metadata": {},
   "source": [
    "## Most played 3 game in each day"
   ]
  },
  {
   "cell_type": "code",
   "execution_count": null,
   "metadata": {
    "scrolled": true
   },
   "outputs": [],
   "source": [
    "w_date = Window.partitionBy('date').orderBy(F.col(\"count\").desc())\n",
    "\n",
    "p = grouped.select(\"*\", F.row_number().over(w_date).alias('row_number')) \\\n",
    "          .where(F.col('row_number') <= 3).toPandas()\n",
    "display(HTML(p.to_html()))\n"
   ]
  },
  {
   "cell_type": "markdown",
   "metadata": {},
   "source": [
    "## Queen's Gambit daily game count"
   ]
  },
  {
   "cell_type": "code",
   "execution_count": null,
   "metadata": {
    "scrolled": true
   },
   "outputs": [],
   "source": [
    "queen = grouped.filter(F.col(\"opening\").contains(\"Queen's Gambit\")) \\\n",
    "        .groupby(\"date\").agg(F.sum(F.col(\"count\")).alias(\"count\")) \\\n",
    "        .sort(F.col(\"date\"))\n",
    "queen = queen.toPandas()\n",
    "# queen = queen.set_index(\"date\")\n",
    "queen.plot.line(rot=50)\n",
    "# display(HTML(queen.to_html()))\n",
    "sns.lmplot(x=\"index\",y='count',order=2, data=queen.reset_index(),fit_reg=True) "
   ]
  },
  {
   "cell_type": "markdown",
   "metadata": {},
   "source": [
    "## Sicilian Defense daily game count"
   ]
  },
  {
   "cell_type": "code",
   "execution_count": null,
   "metadata": {
    "scrolled": true
   },
   "outputs": [],
   "source": [
    "sicilian = grouped.filter(F.col(\"opening\").contains(\"Sicilian Defense\")) \\\n",
    "        .groupby(\"date\").agg(F.sum(F.col(\"count\")).alias(\"count\")) \\\n",
    "        .sort(F.col(\"date\"))\n",
    "sicilian = sicilian.toPandas()\n",
    "# sicilian = sicilian.set_index(\"date\")\n",
    "sicilian.plot.line(rot=50)\n",
    "# display(HTML(sicilian.to_html()))\n",
    "sns.lmplot(x=\"index\",y='count',order=2, data=sicilian.reset_index(),fit_reg=True) "
   ]
  },
  {
   "cell_type": "markdown",
   "metadata": {},
   "source": [
    "## Queen's Gambit weekly game count"
   ]
  },
  {
   "cell_type": "code",
   "execution_count": null,
   "metadata": {
    "scrolled": true
   },
   "outputs": [],
   "source": [
    "temp = grouped.filter(F.col(\"opening\").contains(\"Queen's Gambit\")) \\\n",
    "        .groupby(F.weekofyear(F.to_date(F.col(\"date\"),\"yyyy.MM.dd\")).alias(\"week\")) \\\n",
    "        .agg(F.sum(F.col(\"count\")).alias(\"total\")) \\\n",
    "        .sort(F.col(\"week\")).toPandas()\n",
    "temp.drop(temp.tail(1).index,inplace=True)\n",
    "temp = temp.set_index(\"week\")\n",
    "temp.plot.line()\n",
    "sns.lmplot(x=\"week\",y='total',order=2, data=temp.reset_index(),fit_reg=True) "
   ]
  },
  {
   "cell_type": "markdown",
   "metadata": {},
   "source": [
    "## Sicilian Defense weekly game count"
   ]
  },
  {
   "cell_type": "code",
   "execution_count": null,
   "metadata": {
    "scrolled": true
   },
   "outputs": [],
   "source": [
    "temp = grouped.filter(F.col(\"opening\").contains(\"Sicilian Defense\")) \\\n",
    "        .groupby(F.weekofyear(F.to_date(F.col(\"date\"),\"yyyy.MM.dd\")).alias(\"week\")) \\\n",
    "        .agg(F.sum(F.col(\"count\")).alias(\"total\"))\\\n",
    "        .sort(F.col(\"week\")).toPandas()\n",
    "temp.drop(temp.tail(1).index,inplace=True)\n",
    "temp = temp.set_index(\"week\")\n",
    "temp.plot.line()\n",
    "sns.lmplot(x=\"week\",y='total',order=2, data=temp.reset_index(),fit_reg=True) "
   ]
  },
  {
   "cell_type": "markdown",
   "metadata": {},
   "source": [
    "## English Opening weekly game count after week 30"
   ]
  },
  {
   "cell_type": "code",
   "execution_count": null,
   "metadata": {
    "scrolled": true
   },
   "outputs": [],
   "source": [
    "temp = grouped.filter(F.col(\"opening\").contains(\"English Opening\")) \\\n",
    "        .groupby(F.weekofyear(F.to_date(F.col(\"date\"),\"yyyy.MM.dd\")).alias(\"week\")) \\\n",
    "        .agg(F.sum(F.col(\"count\")).alias(\"total\")) \\\n",
    "        .sort(F.col(\"week\")).filter(F.col(\"week\") > 30).toPandas()\n",
    "temp.drop(temp.tail(1).index,inplace=True)\n",
    "temp = temp.set_index(\"week\")\n",
    "temp.plot.line()\n",
    "sns.lmplot(x=\"week\",y='total',order=2, data=temp.reset_index(),fit_reg=True) "
   ]
  },
  {
   "cell_type": "markdown",
   "metadata": {},
   "source": [
    "## Italian Game weekly game count after week 27"
   ]
  },
  {
   "cell_type": "code",
   "execution_count": null,
   "metadata": {
    "scrolled": true
   },
   "outputs": [],
   "source": [
    "temp = grouped.filter(F.col(\"opening\").contains(\"Italian Game\")) \\\n",
    "        .groupby(F.weekofyear(F.to_date(F.col(\"date\"),\"yyyy.MM.dd\")).alias(\"week\")) \\\n",
    "        .agg(F.sum(F.col(\"count\")).alias(\"total\")) \\\n",
    "        .sort(F.col(\"week\")).filter(F.col(\"week\") > 27).toPandas()\n",
    "temp.drop(temp.tail(1).index,inplace=True)\n",
    "temp = temp.set_index(\"week\")\n",
    "temp.plot.line()\n",
    "sns.lmplot(x=\"week\",y='total',order=2, data=temp.reset_index(),fit_reg=True) "
   ]
  },
  {
   "cell_type": "markdown",
   "metadata": {},
   "source": [
    "## Weekly game count in all data"
   ]
  },
  {
   "cell_type": "code",
   "execution_count": null,
   "metadata": {
    "scrolled": true
   },
   "outputs": [],
   "source": [
    "temp = total_games_weekly.sort(F.col(\"week\")).toPandas()\n",
    "temp.drop(temp.tail(1).index,inplace=True)\n",
    "temp = temp.set_index(\"week\")\n",
    "temp.plot.line()\n",
    "sns.lmplot(x=\"week\",y='total',order=2, data=temp.reset_index(),fit_reg=True) "
   ]
  }
 ],
 "metadata": {
  "kernelspec": {
   "display_name": "ceng790",
   "language": "python",
   "name": "ceng790"
  },
  "language_info": {
   "codemirror_mode": {
    "name": "ipython",
    "version": 3
   },
   "file_extension": ".py",
   "mimetype": "text/x-python",
   "name": "python",
   "nbconvert_exporter": "python",
   "pygments_lexer": "ipython3",
   "version": "3.8.5"
  }
 },
 "nbformat": 4,
 "nbformat_minor": 4
}
