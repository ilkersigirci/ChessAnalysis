{
 "cells": [
  {
   "cell_type": "code",
   "execution_count": null,
   "metadata": {
    "scrolled": true
   },
   "outputs": [],
   "source": [
    "spark"
   ]
  },
  {
   "cell_type": "code",
   "execution_count": null,
   "metadata": {},
   "outputs": [],
   "source": [
    "from pyspark.ml.feature import VectorAssembler\n",
    "from pyspark.ml.feature import StringIndexer\n",
    "import pyspark.sql.functions as F\n",
    "from pyspark.sql.types import ArrayType, StringType, IntegerType\n",
    "from pyspark.ml.clustering import KMeans\n",
    "import chess\n",
    "from pyspark.ml.linalg import Vectors, VectorUDT\n",
    "import numpy as np"
   ]
  },
  {
   "cell_type": "code",
   "execution_count": null,
   "metadata": {},
   "outputs": [],
   "source": [
    "raw = spark.read.format(\"parquet\").option(\"header\",True).load(\"data/chess_dataframe_parquet/*.parquet\")"
   ]
  },
  {
   "cell_type": "code",
   "execution_count": null,
   "metadata": {},
   "outputs": [],
   "source": [
    "raw_small = spark.read.format(\"parquet\").option(\"header\",True).load(\"data/chess_dataframe_parquet/*.parquet\").limit(100000)"
   ]
  },
  {
   "cell_type": "code",
   "execution_count": null,
   "metadata": {},
   "outputs": [],
   "source": [
    "raw.columns"
   ]
  },
  {
   "cell_type": "code",
   "execution_count": null,
   "metadata": {},
   "outputs": [],
   "source": [
    "def splitter(moves_string):\n",
    "    moves = []\n",
    "    for i in moves_string.split(\" \"):\n",
    "        if \".\" not in i:\n",
    "            moves.append(i)\n",
    "    return moves\n",
    "sp_udf = F.udf(splitter, ArrayType(StringType()))"
   ]
  },
  {
   "cell_type": "code",
   "execution_count": null,
   "metadata": {
    "scrolled": true
   },
   "outputs": [],
   "source": [
    "temp = raw_small.where(F.col(\"moves\").isNotNull()).withColumn(\"arr\", sp_udf(F.col(\"Moves\")))\n",
    "for i in range(10):\n",
    "    temp = temp.withColumn(\"m{}\".format(i), F.col(\"arr\").getItem(i))\n",
    "temp.show()\n",
    "temp.cache()"
   ]
  },
  {
   "cell_type": "code",
   "execution_count": null,
   "metadata": {
    "scrolled": true
   },
   "outputs": [],
   "source": [
    "indexer = StringIndexer(inputCol=\"Termination\", outputCol=\"TerminationIndex\")\n",
    "indexed = indexer.fit(temp).transform(temp)\n",
    "\n",
    "indexer = StringIndexer(inputCol=\"Result\", outputCol=\"ResultIndex\")\n",
    "indexed = indexer.fit(indexed).transform(indexed)\n",
    "\n",
    "indexer = StringIndexer(inputCol=\"Opening\", outputCol=\"OpeningIndex\")\n",
    "indexed = indexer.fit(indexed).transform(indexed)\n",
    "\n",
    "for i in range(10):\n",
    "    print(\"start\", i)\n",
    "    indexer = StringIndexer(inputCol=\"m{}\".format(i), outputCol=\"m{}Index\".format(i))\n",
    "    indexed = indexer.fit(indexed).transform(indexed)\n",
    "    print(\"end\", i)\n",
    "# indexed.show()\n",
    "indexed = indexed.withColumn(\"BElo\", F.col(\"BlackElo\").cast(IntegerType()))\n",
    "indexed = indexed.withColumn(\"WElo\", F.col(\"WhiteElo\").cast(IntegerType()))\n",
    "indexed.take(1)"
   ]
  },
  {
   "cell_type": "code",
   "execution_count": null,
   "metadata": {
    "scrolled": true
   },
   "outputs": [],
   "source": [
    "vecAssembler = VectorAssembler(inputCols=[\"m0Index\", \"m1Index\", \"m2Index\", \"m3Index\",  \n",
    "                                          \"m4Index\", \"m5Index\", \"m6Index\", \"m7Index\", \n",
    "                                          \"m8Index\", \"m9Index\"], outputCol=\"features\")\n",
    "df = vecAssembler.transform(indexed2)"
   ]
  },
  {
   "cell_type": "code",
   "execution_count": null,
   "metadata": {},
   "outputs": [],
   "source": [
    "df2 = df.where(F.size(F.col(\"arr\")) > 10)\n",
    "df2.cache()"
   ]
  },
  {
   "cell_type": "code",
   "execution_count": null,
   "metadata": {
    "scrolled": true
   },
   "outputs": [],
   "source": [
    "kmeans = KMeans(k=5, seed=1)  # 2 clusters here\n",
    "model = kmeans.fit(df2.select('features'))"
   ]
  },
  {
   "cell_type": "code",
   "execution_count": null,
   "metadata": {},
   "outputs": [],
   "source": [
    "transformed = model.transform(df2)\n",
    "transformed.select(\"Opening\", \"Result\", \"prediction\").show(truncate=False)   "
   ]
  },
  {
   "cell_type": "code",
   "execution_count": null,
   "metadata": {},
   "outputs": [],
   "source": [
    "transformed.where(F.col(\"prediction\") == 0).select(F.countDistinct(\"Opening\")).show()"
   ]
  },
  {
   "cell_type": "code",
   "execution_count": null,
   "metadata": {},
   "outputs": [],
   "source": [
    "single_clus = transformed.groupby(F.col(\"Opening\")).agg(F.countDistinct(\"prediction\").alias(\"pred\")) \\\n",
    "                        .where(F.col(\"pred\") == 1)"
   ]
  },
  {
   "cell_type": "code",
   "execution_count": null,
   "metadata": {},
   "outputs": [],
   "source": [
    "joined = single_clus.join(transformed, on=[\"Opening\"], how=\"inner\")"
   ]
  },
  {
   "cell_type": "code",
   "execution_count": null,
   "metadata": {},
   "outputs": [],
   "source": [
    "res = joined.where(F.col(\"prediction\") == 2).select(\"opening\").dropDuplicates()\n",
    "res.show(50, truncate=False)"
   ]
  },
  {
   "cell_type": "code",
   "execution_count": null,
   "metadata": {},
   "outputs": [],
   "source": [
    "long_games = temp.where(F.size(F.col(\"arr\")) > 10)\n",
    "move_opening = long_games.select(\"opening\", \"m0\", \"m1\", \"m2\", \"m3\", \"m4\", \"m5\", \"m6\", \"m7\", \"m8\", \"m9\")"
   ]
  },
  {
   "cell_type": "code",
   "execution_count": null,
   "metadata": {},
   "outputs": [],
   "source": [
    "def simulator(moves):\n",
    "    board = chess.Board()\n",
    "    for move in moves:\n",
    "        board.push_san(move)\n",
    "    result_arr_w = []\n",
    "    result_arr_b = []\n",
    "    for i in range(24, 40):\n",
    "        attacker_count = len(list(board.attackers(True, i)))\n",
    "        result_arr_w.append(attacker_count)\n",
    "        attacker_count = len(list(board.attackers(False, i)))\n",
    "        result_arr_b.append(attacker_count)\n",
    "    return Vectors.dense(result_arr_w), Vectors.dense(result_arr_b)\n",
    "\n",
    "sim_udf = F.udf(lambda x: simulator(x), ArrayType(VectorUDT()))"
   ]
  },
  {
   "cell_type": "code",
   "execution_count": null,
   "metadata": {},
   "outputs": [],
   "source": [
    "attacks = move_opening.withColumn(\"attacks\", sim_udf(F.array(\"m0\", \"m1\", \"m2\", \"m3\", \"m4\", \"m5\", \"m6\", \"m7\", \"m8\", \"m9\"))).select(\"opening\", \"attacks\")"
   ]
  },
  {
   "cell_type": "code",
   "execution_count": null,
   "metadata": {},
   "outputs": [],
   "source": [
    "final = attacks.select(attacks.opening, attacks.attacks[0].alias(\"white_att\"), attacks.attacks[1].alias(\"black_att\"))"
   ]
  },
  {
   "cell_type": "code",
   "execution_count": null,
   "metadata": {},
   "outputs": [],
   "source": [
    "indexer2 = StringIndexer(inputCol=\"opening\", outputCol=\"openingIndex\")\n",
    "indexed = indexer2.fit(final).transform(final)\n",
    "\n",
    "assembler = VectorAssembler(\n",
    "    inputCols=[\"white_att\", \"black_att\", \"openingIndex\"],\n",
    "    outputCol=\"features\")\n",
    "assembled = assembler.transform(indexed)"
   ]
  },
  {
   "cell_type": "code",
   "execution_count": null,
   "metadata": {
    "scrolled": true
   },
   "outputs": [],
   "source": [
    "cost = np.zeros(20)\n",
    "for k in range(2,20):\n",
    "    kmeans = KMeans().setK(k).setSeed(1).setFeaturesCol(\"features\")\n",
    "    model = kmeans.fit(assembled.sample(False,0.1, seed=42))\n",
    "    cost[k] = model.computeCost(assembled)"
   ]
  },
  {
   "cell_type": "code",
   "execution_count": null,
   "metadata": {
    "scrolled": true
   },
   "outputs": [],
   "source": [
    "import matplotlib.pyplot as plt\n",
    "fig, ax = plt.subplots(1,1, figsize =(20,16))\n",
    "ax.plot(range(2,20),cost[2:20])\n",
    "ax.set_xlabel('k')\n",
    "ax.set_ylabel('cost')"
   ]
  },
  {
   "cell_type": "code",
   "execution_count": null,
   "metadata": {},
   "outputs": [],
   "source": [
    "kmeans = KMeans(k=8, seed=1)  # 2 clusters here\n",
    "model = kmeans.fit(assembled.select(\"features\"))"
   ]
  },
  {
   "cell_type": "code",
   "execution_count": 107,
   "metadata": {},
   "outputs": [
    {
     "name": "stdout",
     "output_type": "stream",
     "text": [
      "+----------------------------------------------------------+----------+\n",
      "|Opening                                                   |prediction|\n",
      "+----------------------------------------------------------+----------+\n",
      "|Nimzowitsch Defense: Kennedy Variation, Paulsen Attack    |6         |\n",
      "|Queen's Indian Defense: Fianchetto Traditional            |6         |\n",
      "|Sicilian Defense: Kan Variation, Knight Variation         |5         |\n",
      "|Colle System: Traditional Colle                           |2         |\n",
      "|Modern Defense: Standard Line                             |5         |\n",
      "|Gedult's Opening                                          |0         |\n",
      "|Four Knights Game: Spanish Variation, Rubinstein Variation|4         |\n",
      "|Indian Game: Anti-Nimzo-Indian                            |7         |\n",
      "|Italian Game: Classical Variation, Giuoco Pianissimo      |5         |\n",
      "|Sicilian Defense: Canal-Sokolsky Attack                   |5         |\n",
      "|Catalan Opening: Closed Variation                         |5         |\n",
      "|Caro-Kann Defense: Advance Variation                      |7         |\n",
      "|Semi-Slav Defense                                         |5         |\n",
      "|Modern Defense                                            |5         |\n",
      "|Russian Game: Karklins-Martinovsky Variation              |3         |\n",
      "|Modern Defense                                            |5         |\n",
      "|Queen's Gambit Refused: Baltic Defense                    |4         |\n",
      "|French Defense: Chigorin Variation                        |7         |\n",
      "|Benko Gambit: Nescafe Frappe Attack                       |1         |\n",
      "|Queen's Pawn                                              |5         |\n",
      "+----------------------------------------------------------+----------+\n",
      "only showing top 20 rows\n",
      "\n"
     ]
    }
   ],
   "source": [
    "transformed = model.transform(assembled)\n",
    "transformed.select(\"Opening\", \"prediction\").show(truncate=False)   "
   ]
  },
  {
   "cell_type": "code",
   "execution_count": 108,
   "metadata": {},
   "outputs": [
    {
     "name": "stdout",
     "output_type": "stream",
     "text": [
      "+-------------------------------------------------------------------------------------+\n",
      "|opening                                                                              |\n",
      "+-------------------------------------------------------------------------------------+\n",
      "|Queen's Gambit Accepted: Classical Defense, Steinitz Variation, Development Variation|\n",
      "|Caro-Kann Defense: Accelerated Panov Attack, Open Variation                          |\n",
      "|Alekhine Defense: Modern Variation, Larsen-Haakert Variation                         |\n",
      "|King's Indian Defense: Averbakh Variation, Flexible Defense                          |\n",
      "|Grünfeld Defense: Three Knights Variation, Burille Variation, Reversed Tarrasch      |\n",
      "|Sicilian Defense: Kupreichik Variation                                               |\n",
      "|Queen's Gambit Refused: Albin Countergambit, Modern Line                             |\n",
      "|Queen's Gambit Declined: Orthodox Defense, Rubinstein Variation                      |\n",
      "|Sicilian Defense: Scheveningen Variation                                             |\n",
      "|King's Gambit Accepted, Bishop's Gambit                                              |\n",
      "|Ruy Lopez: Morphy Defense, Bayreuth Variation                                        |\n",
      "|Zukertort Opening: Polish Defense                                                    |\n",
      "|Tarrasch Defense                                                                     |\n",
      "|King's Indian Defense: Orthodox Variation, Positional Defense, Closed Line           |\n",
      "|Petrov's Defense                                                                     |\n",
      "|Grünfeld Defense: Three Knights Variation, Hungarian Attack                          |\n",
      "|Center Game: Paulsen Attack Variation                                                |\n",
      "|Queen's Gambit Declined: Orthodox Defense                                            |\n",
      "|Alekhine Defense: Hunt Variation, Lasker Simul Gambit                                |\n",
      "|Alekhine Defense: Four Pawns Attack, Main Line                                       |\n",
      "|Benko Gambit Declined, Quiet Line                                                    |\n",
      "|Sicilian Defense: Accelerated Dragon, Maróczy Bind, Gurgenidze Variation             |\n",
      "|Queen's Gambit Refused: Baltic Defense, Pseudo-Slav                                  |\n",
      "|Sicilian Defense: Dragon Variation, Yugoslav Attack, Early Deviations                |\n",
      "|Three Knights Opening: Steinitz Defense                                              |\n",
      "|Ruy Lopez: Steinitz Defense                                                          |\n",
      "|Slav Defense: Czech Variation, Wiesbaden Variation                                   |\n",
      "|English Opening: Anglo-Lithuanian Variation                                          |\n",
      "|Slav Defense: Czech Variation, Classical System, Main Line                           |\n",
      "|Four Knights Game: Halloween Gambit                                                  |\n",
      "|Sicilian Defense: Modern Variations, Main Line                                       |\n",
      "|Semi-Slav Defense: Botvinnik System, Lilienthal Variation                            |\n",
      "|Three Knights Opening: Winawer Defense                                               |\n",
      "|Semi-Slav Defense: Stoltz Variation, Shabalov Attack                                 |\n",
      "|Queen's Gambit Accepted: Central Variation, Alekhine System                          |\n",
      "|King's Indian Defense: Orthodox Variation, Classical System, Neo-Classical Line      |\n",
      "|Slav Defense: Alekhine Variation                                                     |\n",
      "|Alekhine Defense: Modern, Flohr Variation                                            |\n",
      "|Queen's Indian Defense: Classical Variation                                          |\n",
      "|Tarrasch Defense: Classical Variation, Advance Variation                             |\n",
      "|Pterodactyl Defense: Eastern, Rhamphorhynchus                                        |\n",
      "|St. George Defense: Polish Variation                                                 |\n",
      "|Queen's Pawn Game: Anti-Torre                                                        |\n",
      "|Semi-Slav Defense: Anti-Moscow Gambit                                                |\n",
      "|Ruy Lopez: Open Berlin Defense: l'Hermet Variation                                   |\n",
      "|Vienna Game: Stanley Variation                                                       |\n",
      "|Sicilian Defense: Sozin Attack, Main Line                                            |\n",
      "|Sicilian Defense: Morphy Gambit                                                      |\n",
      "|French Defense: Winawer Variation, Positional Variation                              |\n",
      "|King's Indian Defense: Four Pawns Attack, Normal Attack                              |\n",
      "+-------------------------------------------------------------------------------------+\n",
      "only showing top 50 rows\n",
      "\n"
     ]
    }
   ],
   "source": [
    "single_clus = transformed.groupby(F.col(\"Opening\")).agg(F.countDistinct(\"prediction\").alias(\"pred\")) \\\n",
    "                        .where(F.col(\"pred\") == 1)\n",
    "joined = single_clus.join(transformed, on=[\"Opening\"], how=\"inner\")\n",
    "res = joined.where(F.col(\"prediction\") == 2).select(\"opening\").dropDuplicates()\n",
    "res.show(50, truncate=False)"
   ]
  },
  {
   "cell_type": "code",
   "execution_count": 109,
   "metadata": {},
   "outputs": [
    {
     "name": "stdout",
     "output_type": "stream",
     "text": [
      "+------------------------------------------------------------------------+\n",
      "|opening                                                                 |\n",
      "+------------------------------------------------------------------------+\n",
      "|Tarrasch Defense: Rubinstein System                                     |\n",
      "|Evans Gambit, Morphy Attack                                             |\n",
      "|Modern Defense: Randspringer Variation                                  |\n",
      "|Evans Gambit, Leonhardt Countergambit                                   |\n",
      "|Ruy Lopez: Classical Variation, Modern Main Line                        |\n",
      "|King's Gambit, Falkbeer Countergambit, Blackburne Attack                |\n",
      "|Queen's Gambit Declined: Semi-Tarrasch, San Sebastian Variation         |\n",
      "|Ruy Lopez: Berlin Defense, Tarrasch Trap                                |\n",
      "|Blackmar-Diemer Gambit Declined, Elbert Countergambit                   |\n",
      "|Queen's Gambit Declined: Lasker Defense, Main Line                      |\n",
      "|Sicilian Defense: O'Kelly Variation, Wing Gambit                        |\n",
      "|Queen's Gambit Declined: Semi-Slav, Junge Variation                     |\n",
      "|Owen Defense: Smith Gambit                                              |\n",
      "|Ruy Lopez: Marshall, Main Line, Spassky Variation                       |\n",
      "|Tarrasch Defense: Marshall Gambit                                       |\n",
      "|King's Pawn Game: Damiano Defense                                       |\n",
      "|Alekhine Defense: Brooklyn Variation, Everglades Variation              |\n",
      "|Pterodactyl Defense: Eastern, Benoni Pterodactyl                        |\n",
      "|Queen's Gambit Refused: Albin Countergambit, Lasker Trap                |\n",
      "|Evans Gambit Declined, Lange Variation                                  |\n",
      "|Queen's Gambit Declined: Knight Defense, Alekhine Gambit                |\n",
      "|French Defense: MacCutcheon Variation, Tartakower Variation             |\n",
      "|Russian Game: Classical Attack, Chigorin Variation, Browne Attack       |\n",
      "|Latvian Gambit: Fraser Defense                                          |\n",
      "|Semi-Slav Defense: Rubinstein (Anti-Meran) System                       |\n",
      "|Van Geet Opening: Dougherty Gambit                                      |\n",
      "|English Opening: Wing Gambit                                            |\n",
      "|Italian Game: Hungarian Defense, Tartakower Variation                   |\n",
      "|Tarrasch Defense: Classical Variation, Petursson Variation              |\n",
      "|Queen's Gambit Declined: Cambridge Springs Defense: 7. cxd5             |\n",
      "|Vienna Game: Fyfe Gambit                                                |\n",
      "|Sicilian Defense: Dragon Variation, Classical Variation, Tartakower Line|\n",
      "|King's Gambit, Falkbeer Countergambit, Modern Transfer                  |\n",
      "|King's Indian Defense: Fianchetto Variation, Pterodactyl Variation      |\n",
      "|King's Gambit Accepted, Traditional Variation                           |\n",
      "|Italian Game: Two Knights Defense, Ponziani-Steinitz Gambit             |\n",
      "|Latvian Gambit Accepted, Main Line                                      |\n",
      "|King's Gambit, Falkbeer Countergambit, Charousek Gambit, Keres Variation|\n",
      "|Nimzo-Indian Defense: Ragozin Defense                                   |\n",
      "|Ruy Lopez: Morphy Defense, Wing Attack                                  |\n",
      "|English Opening: King's English Variation, Smyslov Defense              |\n",
      "|Ruy Lopez: Morphy Defense, Modern Steinitz Defense, Siesta Variation    |\n",
      "|Bird Opening: Myers Defense                                             |\n",
      "|Evans Gambit, Compromised Defense                                       |\n",
      "|Vienna Game: Mengarini Variation                                        |\n",
      "|Philidor Defense: Philidor Countergambit, Zukertort Variation           |\n",
      "|Evans Gambit, Waller Attack                                             |\n",
      "|Budapest Defense: Fajarowicz Defense, Bonsdorf Variation                |\n",
      "|Sicilian Defense: O'Kelly Variation, Venice System, Gambit Line         |\n",
      "|Indian Game: Medusa Gambit                                              |\n",
      "+------------------------------------------------------------------------+\n",
      "only showing top 50 rows\n",
      "\n"
     ]
    }
   ],
   "source": [
    "res = joined.where(F.col(\"prediction\") == 1).select(\"opening\").dropDuplicates()\n",
    "res.show(50, truncate=False)"
   ]
  },
  {
   "cell_type": "code",
   "execution_count": null,
   "metadata": {},
   "outputs": [],
   "source": []
  }
 ],
 "metadata": {
  "kernelspec": {
   "display_name": "ceng790-3.6",
   "language": "python",
   "name": "ceng790-3.6"
  },
  "language_info": {
   "codemirror_mode": {
    "name": "ipython",
    "version": 3
   },
   "file_extension": ".py",
   "mimetype": "text/x-python",
   "name": "python",
   "nbconvert_exporter": "python",
   "pygments_lexer": "ipython3",
   "version": "3.6.12"
  }
 },
 "nbformat": 4,
 "nbformat_minor": 4
}
