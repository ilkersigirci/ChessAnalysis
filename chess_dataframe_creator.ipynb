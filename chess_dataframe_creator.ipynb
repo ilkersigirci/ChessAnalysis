{
 "cells": [
  {
   "cell_type": "code",
   "execution_count": 2,
   "metadata": {},
   "outputs": [],
   "source": [
    "import chess\n",
    "import chess.pgn\n",
    "import csv"
   ]
  },
  {
   "cell_type": "code",
   "execution_count": null,
   "metadata": {
    "scrolled": true
   },
   "outputs": [],
   "source": [
    "pgn = open(\"lichess_elite_2020-11.pgn\")\n",
    "with open(\"chess_dataframe.csv\", 'w', newline='') as csvfile:\n",
    "    csv_file = csv.writer(csvfile, delimiter=',')\n",
    "    csv_file.writerow([\"Event\", \"Site\", \"Date\", \"Round\", \"White\", \"Black\", \"Result\", \"BlackElo\", \n",
    "                       \"BlackRatingDiff\", \"BlackTitle\", \"ECO\", \"LichessURL\", \"Opening\", \"Termination\", \"TimeControl\", \n",
    "                       \"UTCDate\", \"UTCTime\", \"WhiteElo\", \"WhiteRatingDiff\", \"WhiteTitle\", \"Moves\"])\n",
    "    while True:\n",
    "        game = chess.pgn.read_game(pgn)\n",
    "        if game == None:\n",
    "            break\n",
    "        headers = game.headers\n",
    "        try:\n",
    "            moves = str(next(iter(game.mainline())))\n",
    "        except StopIteration as e:\n",
    "            moves = None\n",
    "        csv_file.writerow([headers.get(\"Event\"), headers.get(\"Site\"), headers.get(\"Date\"), headers.get(\"Round\"),\n",
    "                           headers.get(\"White\"), headers.get(\"Black\"), headers.get(\"Result\"), headers.get(\"BlackElo\"), \n",
    "                           headers.get(\"BlackRatingDiff\"), headers.get(\"BlackTitle\"), headers.get(\"ECO\"), headers.get(\"LichessURL\"), headers.get(\"Opening\"),\n",
    "                           headers.get(\"Termination\"), headers.get(\"TimeControl\"), headers.get(\"UTCDate\"), headers.get(\"UTCTime\"),\n",
    "                           headers.get(\"WhiteElo\"), headers.get(\"WhiteRatingDiff\"), headers.get(\"WhiteTitle\"),\n",
    "                           moves])\n"
   ]
  }
 ],
 "metadata": {
  "kernelspec": {
   "display_name": "Python 3",
   "language": "python",
   "name": "python3"
  },
  "language_info": {
   "codemirror_mode": {
    "name": "ipython",
    "version": 3
   },
   "file_extension": ".py",
   "mimetype": "text/x-python",
   "name": "python",
   "nbconvert_exporter": "python",
   "pygments_lexer": "ipython3",
   "version": "3.8.5"
  }
 },
 "nbformat": 4,
 "nbformat_minor": 4
}
